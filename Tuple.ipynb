{
  "nbformat": 4,
  "nbformat_minor": 0,
  "metadata": {
    "colab": {
      "provenance": [],
      "authorship_tag": "ABX9TyMqgTRDQ2XoM+6D3Fplo/+v",
      "include_colab_link": true
    },
    "kernelspec": {
      "name": "python3",
      "display_name": "Python 3"
    },
    "language_info": {
      "name": "python"
    }
  },
  "cells": [
    {
      "cell_type": "markdown",
      "metadata": {
        "id": "view-in-github",
        "colab_type": "text"
      },
      "source": [
        "<a href=\"https://colab.research.google.com/github/Asim347/Python/blob/main/Tuple.ipynb\" target=\"_parent\"><img src=\"https://colab.research.google.com/assets/colab-badge.svg\" alt=\"Open In Colab\"/></a>"
      ]
    },
    {
      "cell_type": "code",
      "execution_count": 7,
      "metadata": {
        "colab": {
          "base_uri": "https://localhost:8080/"
        },
        "id": "CBLiJTQqw93T",
        "outputId": "be4f412b-e709-43ad-f05d-b8d4b4752c0a"
      },
      "outputs": [
        {
          "output_type": "stream",
          "name": "stdout",
          "text": [
            "<class 'tuple'>\n",
            "(2, 3, 4, 54)\n",
            "<class 'tuple'>\n",
            "2\n",
            "54\n",
            "(2, 3, 4, 54)\n"
          ]
        }
      ],
      "source": [
        "# not mutable\n",
        "tup = (2,3,4,54)\n",
        "print(type(tup))\n",
        "print(tup)\n",
        "tupl = (1,) # must add comma to make it type otherwise it will be int\n",
        "print(type(tupl))\n",
        "print(tup[0])\n",
        "print(tup[len(tup) -1])\n",
        "print(tup[:])"
      ]
    }
  ]
}