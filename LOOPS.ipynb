{
  "nbformat": 4,
  "nbformat_minor": 0,
  "metadata": {
    "colab": {
      "provenance": [],
      "authorship_tag": "ABX9TyNcp/mif/2XbA1j35I180TF",
      "include_colab_link": true
    },
    "kernelspec": {
      "name": "python3",
      "display_name": "Python 3"
    },
    "language_info": {
      "name": "python"
    }
  },
  "cells": [
    {
      "cell_type": "markdown",
      "metadata": {
        "id": "view-in-github",
        "colab_type": "text"
      },
      "source": [
        "<a href=\"https://colab.research.google.com/github/Asim347/Python/blob/main/LOOPS.ipynb\" target=\"_parent\"><img src=\"https://colab.research.google.com/assets/colab-badge.svg\" alt=\"Open In Colab\"/></a>"
      ]
    },
    {
      "cell_type": "markdown",
      "source": [
        "### Is number Prime or Not"
      ],
      "metadata": {
        "id": "8fUXYuS-6bPg"
      }
    },
    {
      "cell_type": "code",
      "source": [
        "def is_prime(num):\n",
        "    found = False\n",
        "    if num <= 1:\n",
        "        print(\"Number is not valid\")\n",
        "        return\n",
        "    for i in range(2, num):\n",
        "        if num % i == 0:\n",
        "            found = True\n",
        "            break\n",
        "    if found == True:\n",
        "        print(\"Number is not Prime\")\n",
        "    else:\n",
        "        print(\"Number is Prime\")\n",
        "\n",
        "is_prime(13)"
      ],
      "metadata": {
        "colab": {
          "base_uri": "https://localhost:8080/"
        },
        "collapsed": true,
        "id": "p8IpJeyL3sSA",
        "outputId": "3a8c4955-f48c-48ba-a114-1b959279e55c"
      },
      "execution_count": 14,
      "outputs": [
        {
          "output_type": "stream",
          "name": "stdout",
          "text": [
            "Number is Prime\n"
          ]
        }
      ]
    },
    {
      "cell_type": "markdown",
      "source": [
        "### Password Strength Checker"
      ],
      "metadata": {
        "id": "i5o7HXxB86Ob"
      }
    },
    {
      "cell_type": "code",
      "source": [
        "def check_password(password):\n",
        "    if len(password) < 8:\n",
        "        return False\n",
        "    if not any(char.isdigit() for char in password):\n",
        "        return False\n",
        "    if not any(char.isupper() for char in password):\n",
        "        return False\n",
        "    return True\n",
        "\n",
        "while True:\n",
        "    pwd = input(\"Enter a password: \")\n",
        "    if check_password(pwd):\n",
        "        print(\"Password is strong!\")\n",
        "        break\n",
        "    else:\n",
        "        print(\"Password is weak. Must have one capital letter one number. Try again.\")\n"
      ],
      "metadata": {
        "colab": {
          "base_uri": "https://localhost:8080/"
        },
        "id": "nSSKi3pI8-44",
        "outputId": "65c79464-25fd-476d-aef5-023ddf8935a1"
      },
      "execution_count": 16,
      "outputs": [
        {
          "output_type": "stream",
          "name": "stdout",
          "text": [
            "Enter a password: Asimali123\n",
            "Password is strong!\n"
          ]
        }
      ]
    }
  ]
}