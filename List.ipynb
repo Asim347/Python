{
  "nbformat": 4,
  "nbformat_minor": 0,
  "metadata": {
    "colab": {
      "provenance": [],
      "authorship_tag": "ABX9TyPjEzvunATp0dyhxDrdiRBv",
      "include_colab_link": true
    },
    "kernelspec": {
      "name": "python3",
      "display_name": "Python 3"
    },
    "language_info": {
      "name": "python"
    }
  },
  "cells": [
    {
      "cell_type": "markdown",
      "metadata": {
        "id": "view-in-github",
        "colab_type": "text"
      },
      "source": [
        "<a href=\"https://colab.research.google.com/github/Asim347/Python/blob/main/List.ipynb\" target=\"_parent\"><img src=\"https://colab.research.google.com/assets/colab-badge.svg\" alt=\"Open In Colab\"/></a>"
      ]
    },
    {
      "cell_type": "markdown",
      "source": [
        "### List In Python"
      ],
      "metadata": {
        "id": "S-9YGMkUmBXe"
      }
    },
    {
      "cell_type": "code",
      "source": [
        "l = [1,2,3,]\n",
        "print(l)\n",
        "print(type(l))\n",
        "print(l[0])\n",
        "# this is mutable we can add more values or strings"
      ],
      "metadata": {
        "colab": {
          "base_uri": "https://localhost:8080/"
        },
        "id": "zOk06qQmmGOt",
        "outputId": "fcf45218-4ae6-4a4b-8917-da20651566d4"
      },
      "execution_count": 2,
      "outputs": [
        {
          "output_type": "stream",
          "name": "stdout",
          "text": [
            "[1, 2, 3]\n",
            "<class 'list'>\n",
            "1\n"
          ]
        }
      ]
    },
    {
      "cell_type": "code",
      "source": [
        "lt = [2,4,53,2,4,\"Asim\"]\n",
        "print(lt)\n"
      ],
      "metadata": {
        "colab": {
          "base_uri": "https://localhost:8080/"
        },
        "id": "ksqQ_FzTmXxd",
        "outputId": "e971f36c-d0f3-492a-df06-708bd80ae0ce"
      },
      "execution_count": 3,
      "outputs": [
        {
          "output_type": "stream",
          "name": "stdout",
          "text": [
            "[2, 4, 53, 2, 4, 'Asim']\n"
          ]
        }
      ]
    },
    {
      "cell_type": "markdown",
      "source": [
        "### Negative index"
      ],
      "metadata": {
        "id": "AGgiLoCspQFv"
      }
    },
    {
      "cell_type": "code",
      "source": [
        "print(lt[-1]) #negative one\n",
        "print(lt[len(lt)-2]) #converted to postiive"
      ],
      "metadata": {
        "colab": {
          "base_uri": "https://localhost:8080/"
        },
        "id": "V5YRKtnJpSfo",
        "outputId": "cfa5b6dc-81ed-46e6-b7a8-207d67fe4aec"
      },
      "execution_count": 8,
      "outputs": [
        {
          "output_type": "stream",
          "name": "stdout",
          "text": [
            "Asim\n",
            "4\n"
          ]
        }
      ]
    }
  ]
}