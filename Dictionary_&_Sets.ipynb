{
  "nbformat": 4,
  "nbformat_minor": 0,
  "metadata": {
    "colab": {
      "provenance": [],
      "authorship_tag": "ABX9TyOKkXmU1dBf6EOkPXjg1Q45",
      "include_colab_link": true
    },
    "kernelspec": {
      "name": "python3",
      "display_name": "Python 3"
    },
    "language_info": {
      "name": "python"
    }
  },
  "cells": [
    {
      "cell_type": "markdown",
      "metadata": {
        "id": "view-in-github",
        "colab_type": "text"
      },
      "source": [
        "<a href=\"https://colab.research.google.com/github/Asim347/Python/blob/main/Dictionary_%26_Sets.ipynb\" target=\"_parent\"><img src=\"https://colab.research.google.com/assets/colab-badge.svg\" alt=\"Open In Colab\"/></a>"
      ]
    },
    {
      "cell_type": "markdown",
      "source": [
        "### These are used to store data in \"key:value\" pairs\n",
        "### keys are not allowed to be repeated"
      ],
      "metadata": {
        "id": "AfqXzfr1JWjw"
      }
    },
    {
      "cell_type": "code",
      "execution_count": 13,
      "metadata": {
        "colab": {
          "base_uri": "https://localhost:8080/"
        },
        "id": "yemwMuyjJJ0b",
        "outputId": "239b150f-dbc8-484b-9fe1-6930aebb6243"
      },
      "outputs": [
        {
          "output_type": "stream",
          "name": "stdout",
          "text": [
            "<class 'dict'>\n",
            "{'Name': 'Asim', 'Roll NO': 34, 'Learning': 'coding', 'Marks': [34, 32, 55], 'Subjects': ['Bio', 'Java', 'C++']}\n",
            "Asim\n",
            "['Bio', 'Java', 'C++']\n",
            "Kamran\n",
            "{'Name': 'Kamran', 'Roll NO': 34, 'Learning': 'coding', 'Marks': [34, 32, 55], 'Subjects': ['Bio', 'Java', 'C++']}\n"
          ]
        }
      ],
      "source": [
        "info = {\n",
        "    \"Name\" : \"Asim\",\n",
        "    \"Roll NO\" : 34,\n",
        "    \"Learning\" : \"coding\",\n",
        "    \"Marks\" : [34,32,55],\n",
        "    \"Subjects\" : [\"Bio\", \"Java\",\"C++\"]\n",
        "}\n",
        "print(type((info)))\n",
        "print(info)\n",
        "print(info[\"Name\"])\n",
        "print(info[\"Subjects\"]) #individual printing\n",
        "info[\"Name\"] = \"Kamran\"\n",
        "print(info[\"Name\"]) #overwrite previous one\n",
        "print(info)"
      ]
    },
    {
      "cell_type": "code",
      "source": [
        "null_dict = {}\n",
        "null_dict[\"name\"] = \"Khan\"\n",
        "print(null_dict)"
      ],
      "metadata": {
        "colab": {
          "base_uri": "https://localhost:8080/"
        },
        "id": "52x3eMsEMx2e",
        "outputId": "4ad35a7c-b587-4c66-be5c-70b1edbdd22e"
      },
      "execution_count": 17,
      "outputs": [
        {
          "output_type": "stream",
          "name": "stdout",
          "text": [
            "{'name': 'Khan'}\n"
          ]
        }
      ]
    },
    {
      "cell_type": "markdown",
      "source": [
        "### Nested Dictionary"
      ],
      "metadata": {
        "id": "XxIHTAT3NNjV"
      }
    },
    {
      "cell_type": "code",
      "source": [
        "student = {\n",
        "    \"Name\" : \"Asim ALi\",\n",
        "    \"Subject\" : {\n",
        "        \"jave\" : 45,\n",
        "        \"C++\" : 78,\n",
        "        \"Maths\": 76\n",
        "     },\n",
        "   \"Roll No\" : 34\n",
        "}\n",
        "print(student)\n",
        "print(student[\"Subject\"])\n",
        "print(student[\"Subject\"][\"Maths\"])"
      ],
      "metadata": {
        "colab": {
          "base_uri": "https://localhost:8080/"
        },
        "id": "xr3tcFd3NM8D",
        "outputId": "fa2062df-0c36-4091-96b1-413a8eb0dc37"
      },
      "execution_count": 23,
      "outputs": [
        {
          "output_type": "stream",
          "name": "stdout",
          "text": [
            "{'Name': 'Asim ALi', 'Subject': {'jave': 45, 'C++': 78, 'Maths': 76}, 'Roll No': 34}\n",
            "{'jave': 45, 'C++': 78, 'Maths': 76}\n",
            "76\n"
          ]
        }
      ]
    },
    {
      "cell_type": "markdown",
      "source": [
        "### Methods"
      ],
      "metadata": {
        "id": "FGq9guayOXZJ"
      }
    },
    {
      "cell_type": "code",
      "source": [
        "student = {\n",
        "    \"Name\" : \"Asim ALi\",\n",
        "    \"Subject\" : {\n",
        "        \"jave\" : 45,\n",
        "        \"C++\" : 78,\n",
        "        \"Maths\": 76\n",
        "     },\n",
        "   \"Roll No\" : 34\n",
        "}\n",
        "print(len(student))\n",
        "print(student.keys())\n",
        "print(student.values())\n",
        "print(student.items())\n",
        "#print(student[\"Name2\"]) # error\n",
        "print(student.get(\"Name2\")) # return specific value\n",
        "student.update({\"City\" :\"Peshawar\" , \"Education\" : 14})\n",
        "print(student)"
      ],
      "metadata": {
        "colab": {
          "base_uri": "https://localhost:8080/"
        },
        "id": "rPTbzVnfOZD2",
        "outputId": "3c8b2dbb-2cad-43a5-a2d4-09871307f6bc"
      },
      "execution_count": 39,
      "outputs": [
        {
          "output_type": "stream",
          "name": "stdout",
          "text": [
            "3\n",
            "dict_keys(['Name', 'Subject', 'Roll No'])\n",
            "dict_values(['Asim ALi', {'jave': 45, 'C++': 78, 'Maths': 76}, 34])\n",
            "dict_items([('Name', 'Asim ALi'), ('Subject', {'jave': 45, 'C++': 78, 'Maths': 76}), ('Roll No', 34)])\n",
            "None\n",
            "{'Name': 'Asim ALi', 'Subject': {'jave': 45, 'C++': 78, 'Maths': 76}, 'Roll No': 34, 'City': 'Peshawar', 'Education': 14}\n"
          ]
        }
      ]
    },
    {
      "cell_type": "markdown",
      "source": [
        "# **Sets** it is immutable(elements) and each element must be unique. List and dic are not allowed"
      ],
      "metadata": {
        "id": "x0rOy7G_RB-J"
      }
    },
    {
      "cell_type": "code",
      "source": [
        "collection = {1,2,2,3,4,4,\"hello World\"} #ignore duplicate values\n",
        "print(collection)\n",
        "print(len(collection))"
      ],
      "metadata": {
        "colab": {
          "base_uri": "https://localhost:8080/",
          "height": 106
        },
        "id": "YrdjcLkbRJhX",
        "outputId": "5b104d46-69aa-461d-99ae-fbc63a05b3a7"
      },
      "execution_count": 44,
      "outputs": [
        {
          "output_type": "error",
          "ename": "SyntaxError",
          "evalue": "invalid syntax (ipython-input-897722570.py, line 2)",
          "traceback": [
            "\u001b[0;36m  File \u001b[0;32m\"/tmp/ipython-input-897722570.py\"\u001b[0;36m, line \u001b[0;32m2\u001b[0m\n\u001b[0;31m    collection = set{}\u001b[0m\n\u001b[0m                    ^\u001b[0m\n\u001b[0;31mSyntaxError\u001b[0m\u001b[0;31m:\u001b[0m invalid syntax\n"
          ]
        }
      ]
    },
    {
      "cell_type": "markdown",
      "source": [
        "# **METHODS**"
      ],
      "metadata": {
        "id": "3gfc4-i0R9OI"
      }
    },
    {
      "cell_type": "code",
      "source": [
        "collection = set()\n",
        "collection.add(1)\n",
        "collection.add(2)\n",
        "collection.add(3)\n",
        "\n",
        "print(collection)\n",
        "\n",
        "collection.remove(3)\n",
        "\n",
        "print(collection)\n",
        "\n",
        "collection.add(\"Asim Ali\")\n",
        "print(collection)\n",
        "\n",
        "print(collection.pop())\n",
        "print(collection.pop())\n",
        "print(collection)\n"
      ],
      "metadata": {
        "colab": {
          "base_uri": "https://localhost:8080/"
        },
        "id": "87HOhEMtR0Li",
        "outputId": "2b761aca-0494-4c8c-e619-d34e9b24c135"
      },
      "execution_count": 53,
      "outputs": [
        {
          "output_type": "stream",
          "name": "stdout",
          "text": [
            "{1, 2, 3}\n",
            "{1, 2}\n",
            "{'Asim Ali', 1, 2}\n",
            "Asim Ali\n",
            "1\n",
            "{2}\n"
          ]
        }
      ]
    },
    {
      "cell_type": "code",
      "source": [
        "set1 = {1,2,3,4}\n",
        "set2 = {5,6,3,4}\n",
        "print(set1.union(set2))\n",
        "print(set1.intersection(set2))"
      ],
      "metadata": {
        "colab": {
          "base_uri": "https://localhost:8080/"
        },
        "id": "fyOfzcA_Tpkw",
        "outputId": "7993b934-6976-4d10-98cd-2cf5e54b2ac0"
      },
      "execution_count": 56,
      "outputs": [
        {
          "output_type": "stream",
          "name": "stdout",
          "text": [
            "{1, 2, 3, 4, 5, 6}\n",
            "{3, 4}\n"
          ]
        }
      ]
    },
    {
      "cell_type": "code",
      "source": [
        "# Practice Question\n",
        "dictionary = {\n",
        "    \"cat\" : \"a small animal\",\n",
        "    \"table\" : [\"a piece of furniture\" , \"list of facts and figures\"]\n",
        "}\n",
        "print(dictionary)"
      ],
      "metadata": {
        "colab": {
          "base_uri": "https://localhost:8080/"
        },
        "id": "WrnXa_NHUHgM",
        "outputId": "2e668eea-ec77-41fe-c9aa-1a0ee8fd8b45"
      },
      "execution_count": 59,
      "outputs": [
        {
          "output_type": "stream",
          "name": "stdout",
          "text": [
            "{'cat': 'a small animal', 'table': ['a piece of furniture', 'list of facts and figures']}\n"
          ]
        }
      ]
    },
    {
      "cell_type": "code",
      "source": [
        "subjects = {\n",
        "    \"Python\" , \"Java\", \"C++\" , \"Java\" , \"Python\", \"C\", \"Javascript\", \"Python\",\n",
        "    \"C++\"\n",
        "}\n",
        "print(subjects)\n",
        "print(len(subjects))"
      ],
      "metadata": {
        "colab": {
          "base_uri": "https://localhost:8080/"
        },
        "id": "o5TtQ9h6Uo11",
        "outputId": "da0d0a9a-1703-4b3d-a5d4-faceabddb47d"
      },
      "execution_count": 62,
      "outputs": [
        {
          "output_type": "stream",
          "name": "stdout",
          "text": [
            "{'C++', 'Python', 'Javascript', 'C', 'Java'}\n",
            "5\n"
          ]
        }
      ]
    },
    {
      "cell_type": "code",
      "source": [
        "marks = {}\n",
        "\n",
        "x = int(input(\"Enter value for Physics: \"))\n",
        "marks.update({\"Physics\": x})\n",
        "\n",
        "y = int(input(\"Enter value for Chemistry: \"))\n",
        "marks.update({\"Chemistry\": y})\n",
        "\n",
        "z = int(input(\"Enter value for Maths: \"))\n",
        "marks.update({\"Maths\": z})\n",
        "\n",
        "print(marks)"
      ],
      "metadata": {
        "colab": {
          "base_uri": "https://localhost:8080/"
        },
        "id": "qog78PM0VE9u",
        "outputId": "4c6c3b21-3e50-4e2b-8495-0b1e0e680aa5"
      },
      "execution_count": 64,
      "outputs": [
        {
          "output_type": "stream",
          "name": "stdout",
          "text": [
            "Enter value for Physics: 78\n",
            "Enter value for Chemistry: 90\n",
            "Enter value for Maths: 54\n",
            "{'Physics': 78, 'Chemistry': 90, 'Maths': 54}\n"
          ]
        }
      ]
    },
    {
      "cell_type": "code",
      "source": [
        "#values = {9, \"9.0\"}\n",
        "values = [{\"Float\": 9.0}, {\"Int\": 9}]\n",
        "print(values)\n",
        "print(type(values))\n"
      ],
      "metadata": {
        "colab": {
          "base_uri": "https://localhost:8080/"
        },
        "id": "r9ZQ4xyYWXuD",
        "outputId": "7b09de77-e9dd-4062-f8be-7d35690754e2"
      },
      "execution_count": 74,
      "outputs": [
        {
          "output_type": "stream",
          "name": "stdout",
          "text": [
            "[{'Float': 9.0}, {'Int': 9}]\n",
            "<class 'list'>\n"
          ]
        }
      ]
    }
  ]
}