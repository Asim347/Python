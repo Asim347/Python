{
  "nbformat": 4,
  "nbformat_minor": 0,
  "metadata": {
    "colab": {
      "provenance": [],
      "authorship_tag": "ABX9TyOf/uFEpc80V4aCsx4hHyET",
      "include_colab_link": true
    },
    "kernelspec": {
      "name": "python3",
      "display_name": "Python 3"
    },
    "language_info": {
      "name": "python"
    }
  },
  "cells": [
    {
      "cell_type": "markdown",
      "metadata": {
        "id": "view-in-github",
        "colab_type": "text"
      },
      "source": [
        "<a href=\"https://colab.research.google.com/github/Asim347/Python/blob/main/Operations_on_Tuple.ipynb\" target=\"_parent\"><img src=\"https://colab.research.google.com/assets/colab-badge.svg\" alt=\"Open In Colab\"/></a>"
      ]
    },
    {
      "cell_type": "code",
      "execution_count": 8,
      "metadata": {
        "colab": {
          "base_uri": "https://localhost:8080/"
        },
        "id": "K_j8gB0mySaY",
        "outputId": "b857b4cd-4c96-4244-c842-b4dcdf70f29a"
      },
      "outputs": [
        {
          "output_type": "stream",
          "name": "stdout",
          "text": [
            "('France', 'Germany', 'Norway', 'USA')\n"
          ]
        }
      ],
      "source": [
        "countires = (\"Pakistan\", \"France\" , \"Germany\" , \"UK\")\n",
        "temp = list(countires)\n",
        "temp.append(\"USA\")\n",
        "temp.pop(0)\n",
        "temp[2] = \"Norway\"\n",
        "countires = tuple(temp)\n",
        "print(countires)"
      ]
    },
    {
      "cell_type": "code",
      "source": [
        "countires = (\"Pakistan\", \"France\" , \"Germany\" , \"UK\")\n",
        "countires2 = (\"India\", \"Africe\" , \"Russia\" , \"China\")\n",
        "world = countires + countires2\n",
        "print(world)"
      ],
      "metadata": {
        "colab": {
          "base_uri": "https://localhost:8080/"
        },
        "id": "GaA_tOzIzpRy",
        "outputId": "e25bba04-7cca-4ae4-9609-5101c09fbe7d"
      },
      "execution_count": 9,
      "outputs": [
        {
          "output_type": "stream",
          "name": "stdout",
          "text": [
            "('Pakistan', 'France', 'Germany', 'UK', 'India', 'Africe', 'Russia', 'China')\n"
          ]
        }
      ]
    }
  ]
}