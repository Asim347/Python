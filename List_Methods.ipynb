{
  "nbformat": 4,
  "nbformat_minor": 0,
  "metadata": {
    "colab": {
      "provenance": [],
      "authorship_tag": "ABX9TyNFhYqKiB2xSKnIHlKeiMn2",
      "include_colab_link": true
    },
    "kernelspec": {
      "name": "python3",
      "display_name": "Python 3"
    },
    "language_info": {
      "name": "python"
    }
  },
  "cells": [
    {
      "cell_type": "markdown",
      "metadata": {
        "id": "view-in-github",
        "colab_type": "text"
      },
      "source": [
        "<a href=\"https://colab.research.google.com/github/Asim347/Python/blob/main/List_Methods.ipynb\" target=\"_parent\"><img src=\"https://colab.research.google.com/assets/colab-badge.svg\" alt=\"Open In Colab\"/></a>"
      ]
    },
    {
      "cell_type": "code",
      "execution_count": 30,
      "metadata": {
        "colab": {
          "base_uri": "https://localhost:8080/"
        },
        "id": "kHyokQaesW-3",
        "outputId": "94292451-c48c-46e9-c456-2a90d8cec489"
      },
      "outputs": [
        {
          "output_type": "stream",
          "name": "stdout",
          "text": [
            "9\n",
            "[11, 9, 2, 23, 4, 54, 33, 21, 56, 2]\n",
            "[100, 200, 300, 400, 500, 11, 9, 2, 23, 4, 54, 33, 21, 56, 2]\n",
            "[11, 9, 2, 23, 4, 54, 33, 21, 56, 2, 100, 200, 300]\n"
          ]
        }
      ],
      "source": [
        "l = [11,2,23,4,54,33,21,56,2]\n",
        "# print(l)\n",
        "# l.append(8)\n",
        "# print(l)\n",
        "# l.sort()\n",
        "# print(l)\n",
        "# l.sort(reverse=True)\n",
        "# print(l)\n",
        "#print(l.index(21))\n",
        "#print(l.count(2))\n",
        "# m = l.copy()\n",
        "# m[0] = 0\n",
        "# print(l)\n",
        "count = len(l)\n",
        "print(count)\n",
        "l.insert(1,9)\n",
        "print(l)\n",
        "v = [100,200,300]\n",
        "k = [400,500]\n",
        "n = v + k + l\n",
        "print(n)\n",
        "l.extend(v)\n",
        "print(l)"
      ]
    }
  ]
}