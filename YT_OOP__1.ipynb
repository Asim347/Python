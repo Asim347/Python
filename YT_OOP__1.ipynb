{
  "nbformat": 4,
  "nbformat_minor": 0,
  "metadata": {
    "colab": {
      "provenance": [],
      "authorship_tag": "ABX9TyNI0SdvIE/NyDZ3zJFpK8+v",
      "include_colab_link": true
    },
    "kernelspec": {
      "name": "python3",
      "display_name": "Python 3"
    },
    "language_info": {
      "name": "python"
    }
  },
  "cells": [
    {
      "cell_type": "markdown",
      "metadata": {
        "id": "view-in-github",
        "colab_type": "text"
      },
      "source": [
        "<a href=\"https://colab.research.google.com/github/Asim347/Python/blob/main/YT_OOP__1.ipynb\" target=\"_parent\"><img src=\"https://colab.research.google.com/assets/colab-badge.svg\" alt=\"Open In Colab\"/></a>"
      ]
    },
    {
      "cell_type": "code",
      "execution_count": null,
      "metadata": {
        "colab": {
          "base_uri": "https://localhost:8080/"
        },
        "id": "iqkkrGa2J6Iz",
        "outputId": "cfbf1767-20d2-472e-9d21-009750982bf8"
      },
      "outputs": [
        {
          "output_type": "stream",
          "name": "stdout",
          "text": [
            "Adding new student to Database\n",
            "<__main__.Student object at 0x7b3379f5b4a0>\n",
            "Asim\n"
          ]
        }
      ],
      "source": [
        "class Student:\n",
        "  def __init__(self, fullname):\n",
        "    self.name = fullname\n",
        "    print(\"Adding new student to Database\")\n",
        "\n",
        "s1 = Student(\"Asim\")\n",
        "print(s1)\n",
        "print(s1.name)"
      ]
    },
    {
      "cell_type": "code",
      "source": [
        "class Student:\n",
        "  def __init__(self, name , marks):\n",
        "    self.name = name\n",
        "    self.marks = marks\n",
        "\n",
        "  def get_average(self):\n",
        "    sum = 0\n",
        "    for i in self.marks:\n",
        "       sum += i\n",
        "    print(f\"Hi {self.name} Your average score is {sum / 3:.2f}\")\n",
        "\n",
        "s1 = Student(\"Asim\", [78,90,80])\n",
        "s1.get_average()\n",
        ""
      ],
      "metadata": {
        "colab": {
          "base_uri": "https://localhost:8080/"
        },
        "id": "QY5V3SziUNXM",
        "outputId": "d6a5f26c-633a-451f-b6f8-d71c14ece046"
      },
      "execution_count": 6,
      "outputs": [
        {
          "output_type": "stream",
          "name": "stdout",
          "text": [
            "Hi Asim Your average score is 82.67\n"
          ]
        }
      ]
    },
    {
      "cell_type": "code",
      "source": [
        "class Student:\n",
        "  def __init__(self, fullname):\n",
        "    self.name = fullname\n",
        "    print(\"Adding new student to Database\")\n",
        "  @staticmethod #It makes a function to be static and does not any self key word\n",
        "  def Hello():\n",
        "    print(\"Hello world\")\n",
        "\n",
        "s1 = Student(\"Asim\")\n",
        "print(s1.name)\n",
        "s1.Hello()"
      ],
      "metadata": {
        "colab": {
          "base_uri": "https://localhost:8080/"
        },
        "id": "-vapj5RHWgh3",
        "outputId": "a81b03ba-66d7-46c6-8a37-03bfd7a0ced9"
      },
      "execution_count": 12,
      "outputs": [
        {
          "output_type": "stream",
          "name": "stdout",
          "text": [
            "Adding new student to Database\n",
            "Asim\n",
            "Hello world\n"
          ]
        }
      ]
    }
  ]
}