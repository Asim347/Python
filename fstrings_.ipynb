{
  "nbformat": 4,
  "nbformat_minor": 0,
  "metadata": {
    "colab": {
      "provenance": [],
      "authorship_tag": "ABX9TyMy5cppn3cY94pmFq8AujFm",
      "include_colab_link": true
    },
    "kernelspec": {
      "name": "python3",
      "display_name": "Python 3"
    },
    "language_info": {
      "name": "python"
    }
  },
  "cells": [
    {
      "cell_type": "markdown",
      "metadata": {
        "id": "view-in-github",
        "colab_type": "text"
      },
      "source": [
        "<a href=\"https://colab.research.google.com/github/Asim347/Python/blob/main/fstrings_.ipynb\" target=\"_parent\"><img src=\"https://colab.research.google.com/assets/colab-badge.svg\" alt=\"Open In Colab\"/></a>"
      ]
    },
    {
      "cell_type": "code",
      "execution_count": 4,
      "metadata": {
        "colab": {
          "base_uri": "https://localhost:8080/"
        },
        "id": "6AYYyxNLxSS-",
        "outputId": "5d6c70f2-4579-44f7-d257-5e848e2e54e4"
      },
      "outputs": [
        {
          "output_type": "stream",
          "name": "stdout",
          "text": [
            "Hey my name is Asim Ali and i am from Pakistan  \n",
            "hey my name is Asim Ali and I am from Pakistan \n",
            "for only 23.44 dollors\n"
          ]
        }
      ],
      "source": [
        "letter = \"Hey my name is {} and i am from {} \"\n",
        "country = \"Pakistan \"\n",
        "name  = \"Asim Ali\"\n",
        "print(letter.format(name, country)) # old method\n",
        "print(f\"hey my name is {name} and I am from {country}\") # new one with f string\n",
        "price = 23.44431\n",
        "txt = f\"for only {price:.2f} dollors\"\n",
        "print(txt)"
      ]
    }
  ]
}