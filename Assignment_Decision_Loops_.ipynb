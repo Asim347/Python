{
  "nbformat": 4,
  "nbformat_minor": 0,
  "metadata": {
    "colab": {
      "provenance": [],
      "authorship_tag": "ABX9TyP+PqK/g/NshRZCxIeTIdXX",
      "include_colab_link": true
    },
    "kernelspec": {
      "name": "python3",
      "display_name": "Python 3"
    },
    "language_info": {
      "name": "python"
    }
  },
  "cells": [
    {
      "cell_type": "markdown",
      "metadata": {
        "id": "view-in-github",
        "colab_type": "text"
      },
      "source": [
        "<a href=\"https://colab.research.google.com/github/Asim347/Python/blob/main/Assignment_Decision_Loops_.ipynb\" target=\"_parent\"><img src=\"https://colab.research.google.com/assets/colab-badge.svg\" alt=\"Open In Colab\"/></a>"
      ]
    },
    {
      "cell_type": "markdown",
      "source": [
        "### Ticket Price Calculation"
      ],
      "metadata": {
        "id": "odI6REWnrcVA"
      }
    },
    {
      "cell_type": "code",
      "source": [
        "def ticket_price_calculate(age):\n",
        "    price = 0\n",
        "    if age < 5:\n",
        "        print(\"You are free\")\n",
        "    elif age >= 5 and age <= 12:\n",
        "        price = 500\n",
        "        print(f\"Your ticket price is {price}\")\n",
        "    elif age >= 13 and age < 60:\n",
        "        price = 800\n",
        "        print(f\"Your ticket price is {price}\")\n",
        "    else:\n",
        "        price = 400\n",
        "        print(f\"Senior citizen price is {price}\")\n",
        "\n",
        "# Get user input\n",
        "age = int(input(\"Enter your age: \"))\n",
        "ticket_price_calculate(age)\n"
      ],
      "metadata": {
        "id": "3nOEqc9wxO8r"
      },
      "execution_count": null,
      "outputs": []
    },
    {
      "cell_type": "markdown",
      "source": [
        "### ATM Machine"
      ],
      "metadata": {
        "id": "bugp2qOkxUal"
      }
    },
    {
      "cell_type": "code",
      "source": [
        "def atm_machine(amount):\n",
        "    current_balance = 5000\n",
        "\n",
        "    # Step 1: Check if the amount is valid\n",
        "    if amount % 500 != 0 and amount % 1000 != 0:\n",
        "        print(\"Invalid amount. Please enter a multiple of 500 or 1000.\")\n",
        "        return\n",
        "\n",
        "    # Step 2: Check if there is enough balance\n",
        "    if amount > current_balance:\n",
        "        print(\"Insufficient Balance.\")\n",
        "    else:\n",
        "        current_balance -= amount\n",
        "        print(f\"Transaction successful: {amount}\")\n",
        "        print(f\"Remaining Balance: {current_balance}\")\n",
        "\n",
        "# Main Program\n",
        "try:\n",
        "    amount = int(input(\"Enter the amount to withdraw: \"))\n",
        "    atm_machine(amount)\n",
        "except ValueError:\n",
        "    print(\"Invalid input. Please enter a number.\")\n"
      ],
      "metadata": {
        "id": "MnIE-3WfxWWG"
      },
      "execution_count": null,
      "outputs": []
    }
  ]
}