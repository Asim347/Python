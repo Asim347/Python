{
  "nbformat": 4,
  "nbformat_minor": 0,
  "metadata": {
    "colab": {
      "provenance": [],
      "authorship_tag": "ABX9TyOksDEuj3U/cxH96VUMJ47i",
      "include_colab_link": true
    },
    "kernelspec": {
      "name": "python3",
      "display_name": "Python 3"
    },
    "language_info": {
      "name": "python"
    }
  },
  "cells": [
    {
      "cell_type": "markdown",
      "metadata": {
        "id": "view-in-github",
        "colab_type": "text"
      },
      "source": [
        "<a href=\"https://colab.research.google.com/github/Asim347/Python/blob/main/Week_5_SMIT.ipynb\" target=\"_parent\"><img src=\"https://colab.research.google.com/assets/colab-badge.svg\" alt=\"Open In Colab\"/></a>"
      ]
    },
    {
      "cell_type": "markdown",
      "source": [
        "### Object Oriented Programming"
      ],
      "metadata": {
        "id": "PRTugN2akg2k"
      }
    },
    {
      "cell_type": "code",
      "execution_count": 1,
      "metadata": {
        "colab": {
          "base_uri": "https://localhost:8080/"
        },
        "id": "EB0AKkQqj1YM",
        "outputId": "bb78ac92-2153-4033-c788-23f60f6f7a6d"
      },
      "outputs": [
        {
          "output_type": "stream",
          "name": "stdout",
          "text": [
            "Student Details:\n",
            "Name: John\n",
            "Age: 20\n",
            "Roll No: A123\n",
            "Department: Computer Science\n"
          ]
        }
      ],
      "source": [
        "class Student:\n",
        "    def __init__(self, name, age, rollno, department):\n",
        "        # constructor\n",
        "        self.name = name\n",
        "        self.age = age\n",
        "        self.rollno = rollno\n",
        "        self.department = department\n",
        "\n",
        "    def display(self):\n",
        "        # method to display student details\n",
        "        print(\"Student Details:\")\n",
        "        print(f\"Name: {self.name}\")\n",
        "        print(f\"Age: {self.age}\")\n",
        "        print(f\"Roll No: {self.rollno}\")\n",
        "        print(f\"Department: {self.department}\")\n",
        "\n",
        "# Example usage\n",
        "student1 = Student(\"John\", 20, \"A123\", \"Computer Science\")\n",
        "student1.display()\n"
      ]
    },
    {
      "cell_type": "code",
      "source": [
        "class Teacher:\n",
        "    def __init__(self, name, teacher_id, courses_list, department, age):\n",
        "        self.name = name\n",
        "        self.teacher_id = teacher_id\n",
        "        self.courses_list = courses_list\n",
        "        self.department = department\n",
        "        self.age = age\n",
        "\n",
        "    def display(self):\n",
        "        print(\"\\n--- Teacher Details ---\")\n",
        "        print(f\"Name       : {self.name}\")\n",
        "        print(f\"Age        : {self.age}\")\n",
        "        print(f\"Teacher ID : {self.teacher_id}\")\n",
        "        print(f\"Department : {self.department}\")\n",
        "        print(f\"Courses    : {', '.join(self.courses_list)}\")\n",
        "\n",
        "    def remove(self, index):\n",
        "        if 0 <= index < len(self.courses_list):\n",
        "            self.courses_list.pop(index)\n",
        "        else:\n",
        "            print(\"Invalid index.\")\n",
        "\n",
        "\n",
        "    def add(self, course):\n",
        "        self.courses_list.append(course)\n",
        "\n",
        "\n",
        "    def update_courses(self, courses_list):\n",
        "        self.courses_list = courses_list\n",
        "\n",
        "\n",
        "\n",
        "# Example usage\n",
        "teacher = Teacher(\"Asim\", 12, [\"Physics\", \"Maths\", \"Computer Science\"], \"IT\", 35)\n",
        "\n",
        "teacher.display()\n",
        "\n",
        "teacher.remove(2)\n",
        "teacher.display()\n",
        "\n",
        "teacher.add(\"Cybersecurity\")\n",
        "teacher.display()\n",
        "\n",
        "teacher.update_courses([\"DS\", \"AI\"])\n",
        "teacher.display()\n"
      ],
      "metadata": {
        "colab": {
          "base_uri": "https://localhost:8080/"
        },
        "id": "QULawxnYp5Lp",
        "outputId": "60975f6c-370a-4f9d-b79f-283f9b7128df"
      },
      "execution_count": 19,
      "outputs": [
        {
          "output_type": "stream",
          "name": "stdout",
          "text": [
            "\n",
            "--- Teacher Details ---\n",
            "Name       : Asim\n",
            "Age        : 35\n",
            "Teacher ID : 12\n",
            "Department : IT\n",
            "Courses    : Physics, Maths, Computer Science\n",
            "\n",
            "--- Teacher Details ---\n",
            "Name       : Asim\n",
            "Age        : 35\n",
            "Teacher ID : 12\n",
            "Department : IT\n",
            "Courses    : Physics, Maths\n",
            "\n",
            "--- Teacher Details ---\n",
            "Name       : Asim\n",
            "Age        : 35\n",
            "Teacher ID : 12\n",
            "Department : IT\n",
            "Courses    : Physics, Maths, Cybersecurity\n",
            "\n",
            "--- Teacher Details ---\n",
            "Name       : Asim\n",
            "Age        : 35\n",
            "Teacher ID : 12\n",
            "Department : IT\n",
            "Courses    : DS, AI\n"
          ]
        }
      ]
    }
  ]
}